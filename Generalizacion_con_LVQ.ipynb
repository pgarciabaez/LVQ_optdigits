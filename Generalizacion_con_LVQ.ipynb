{
 "cells": [
  {
   "cell_type": "markdown",
   "metadata": {},
   "source": [
    "# Introducción\n",
    "\n",
    "El objetivo principal de esta actividad es estudiar la capacidad de generalización de las Redes Neuronalea Artificiales supervisadas, en concreto veremos el modelo [Learning Vector Quantization][lvq_wikipedia] (LVQ) aplicado sobre el problema de reconcimiento de dígitos escritos a mano a partir de los datos publicados en el UCI Machine Learning Repository (Lichman, 2003) denominado [Optical Recognition of Handwritten Digits Data Set][uci_ocrhdds]. Utilizaremos la [implementación del LVQ que provee Neurolab][nl_lvqcode], que muestran también [un ejemplo de su uso][nl_lvqexample].\n",
    "\n",
    "Puede aprender algo más acerca de LVQ leyendo [esta presentación][lvq_slides].\n",
    "\n",
    "* (Lichman, 2003) Lichman, M. (2013). [UCI Machine Learning Repository][uci_repo]. Irvine, CA: University of California, School of Information and Computer Science. \n",
    "\n",
    "[lvq_wikipedia]: http://en.wikipedia.org/wiki/Learning_vector_quantization\n",
    "[uci_repo]: http://archive.ics.uci.edu/ml\n",
    "[uci_ocrhdds]: http://archive.ics.uci.edu/ml/datasets/Optical+Recognition+of+Handwritten+Digits\n",
    "[nl_lvqcode]: https://github.com/omtinez/neurolab/blob/master/neurolab/train/lvq.py\n",
    "[nl_lvqexample]: https://pythonhosted.org/neurolab/ex_newlvq.html\n",
    "[lvq_slides]: https://es.slideshare.net/mentelibre/learning-vector-quantization-lvq"
   ]
  },
  {
   "cell_type": "markdown",
   "metadata": {},
   "source": [
    "# Inicialización de Python"
   ]
  },
  {
   "cell_type": "code",
   "execution_count": 1,
   "metadata": {
    "collapsed": false
   },
   "outputs": [
    {
     "name": "stdout",
     "output_type": "stream",
     "text": [
      "Requirement already satisfied: neurolab in /home/jovyan/.local/lib/python2.7/site-packages\r\n"
     ]
    }
   ],
   "source": [
    "!python -m pip install neurolab --user\n",
    "\n",
    "import numpy as np\n",
    "import neurolab as nl\n",
    "import pylab as pl"
   ]
  },
  {
   "cell_type": "markdown",
   "metadata": {
    "collapsed": true
   },
   "source": [
    "# Conjuntos de patrones empleados\n",
    "Se cargan los patrones de entrenamiento en memoria, se barajean y se generan las salidas deseadas con formato de 10 salidas binarias. Se divide el conjunto original barajeado en un 75% para entrenar y un 25% para validar. Finalmente se visualizan algunos de los patrones. El código necesario para todo ello es el siguiente:"
   ]
  },
  {
   "cell_type": "code",
   "execution_count": 2,
   "metadata": {
    "collapsed": false
   },
   "outputs": [
    {
     "data": {
      "text/plain": [
       "(3823, 65)"
      ]
     },
     "execution_count": 2,
     "metadata": {},
     "output_type": "execute_result"
    }
   ],
   "source": [
    "# Leer fichero de patrones de entrenamiento\n",
    "patterns = np.loadtxt(\"optdigits.tra\", dtype=int, delimiter=',')\n",
    "\n",
    "# Dimensiones leidas\n",
    "totpat, totcols = patterns.shape\n",
    "\n",
    "(totpat, totcols)"
   ]
  },
  {
   "cell_type": "code",
   "execution_count": 3,
   "metadata": {
    "collapsed": false
   },
   "outputs": [
    {
     "data": {
      "text/plain": [
       "(2867, 956)"
      ]
     },
     "execution_count": 3,
     "metadata": {},
     "output_type": "execute_result"
    }
   ],
   "source": [
    "# Barajar los patrones\n",
    "np.random.seed(seed=0)\n",
    "np.random.shuffle(patterns)\n",
    "\n",
    "# Generar salidas deseada con formato 10 salidas binarias\n",
    "target = np.zeros([totpat, 10])\n",
    "for i in range(totpat):\n",
    "    target[i, patterns[i, -1]] = 1.0\n",
    "\n",
    "# Dividir patrones en cto entrenamiento y cto validación\n",
    "ratiotrain = 0.75    # 75% en entrenamiento, 25% validación\n",
    "tottrain = int(np.floor(ratiotrain * totpat))\n",
    "totvalid = totpat - tottrain\n",
    "\n",
    "(tottrain, totvalid)"
   ]
  },
  {
   "cell_type": "code",
   "execution_count": 4,
   "metadata": {
    "collapsed": true
   },
   "outputs": [],
   "source": [
    "# Preparar vectores de entradas y salidas deseadas\n",
    "traininput = patterns[0:tottrain, 0:totcols-1]\n",
    "traintarget = target[0:tottrain, :]\n",
    "\n",
    "validinput  = patterns[tottrain:, 0:totcols-1]\n",
    "validtarget  = target[tottrain:, :]"
   ]
  },
  {
   "cell_type": "code",
   "execution_count": 5,
   "metadata": {
    "collapsed": false
   },
   "outputs": [
    {
     "data": {
      "image/png": "[encoded data removed]",
      "text/plain": [
       "<matplotlib.figure.Figure at 0x7fa5cbcb2cd0>"
      ]
     },
     "metadata": {},
     "output_type": "display_data"
    }
   ],
   "source": [
    "# Visluaizar algunos patrones ejemplos\n",
    "for i in range(12):\n",
    "    pl.subplot(3, 4, 1 + i)\n",
    "    imgplot = pl.imshow(16 - traininput[i,:].reshape(8,8))\n",
    "    imgplot.set_interpolation('nearest')\n",
    "    imgplot.set_cmap('gray')\n",
    "    pl.text(3.5, -0.8, int(np.dot(traintarget[i], np.arange(10))))\n",
    "    pl.xticks([],[])\n",
    "    pl.yticks([],[])\n",
    "\n",
    "pl.show()"
   ]
  },
  {
   "cell_type": "markdown",
   "metadata": {},
   "source": [
    "# Modelo de RNA y parámetros \n",
    "El modelo de RNA a utilizar será el [Learning Vector Quantization (LVQ)][lvq_wikipedia]. Se trata de un modelo supervisado de dos capas, la primera o capa ocultas es de aprendizaje competitivo, la segunda capa se utiliza para etiquetar los prototipos de la capa anterior a las clases finales, normalmente es un perceptron simple o similar. El aprendizaje consiste básicamente en, si la red clasifica correctamente un patrón, acercar el prototipo ganador a ese patrón, si la red lo clasifica incorrectamente lo alejaría.\n",
    "\n",
    "La [implementación de LVQ por Neurlab][nl_lvqexample] es bastante simple. Los prototipos se inicializan todos al promedio de los rangos dados para las entradas. El número de neuronas ocultas se reparte proporcionalmente entre las clases de salida según unos coeficientes dados. El ratio de aprendizaje es fijo durante todos los ciclos y dispone de dos modos de entrenamiento (parámetro adapt), por ciclos y modo batch, aunque en este último parece haber un bug en el [código][nl_lvqcode]. La mayor debilidad que vemos en esta implementación es la inicialización de prototipos, como se comentará, se ha realizado una nueva inicialización asgnándolos a patrones aleatorios de su clase que nos ofrece mejores resultados.\n",
    "\n",
    "El parámetro principal a estudiar es el número de neuronas ocultas, además se prueba con distintas semillas para el generador de números aletaorios para generar inicializaciones diferentes. También se han probado distintos valores para el ratio de aprendizaje, no obteniendo grandes diferencias y dejando su valor por defecto a 0,004.\n",
    "\n",
    "[lvq_wikipedia]: http://en.wikipedia.org/wiki/Learning_vector_quantization\n",
    "[uci_ocrhdds]: http://archive.ics.uci.edu/ml/datasets/Optical+Recognition+of+Handwritten+Digits\n",
    "[nl_lvqcode]: https://github.com/omtinez/neurolab/blob/master/neurolab/train/lvq.py\n",
    "[nl_lvqexample]: https://pythonhosted.org/neurolab/ex_newlvq.html"
   ]
  },
  {
   "cell_type": "markdown",
   "metadata": {},
   "source": [
    "## Resultados iniciales\n",
    "En primer lugar se crea una red LVQ con 60 neuronas ocultas, un promedio de 6 neuronas para representar cada clase. Usando la propia inicialización del LVQ de NeuroLab se entrena y calculan los errores obtenidos. El código necesario para ello es:"
   ]
  },
  {
   "cell_type": "code",
   "execution_count": 6,
   "metadata": {
    "collapsed": false
   },
   "outputs": [
    {
     "name": "stdout",
     "output_type": "stream",
     "text": [
      "Epoch: 5; Error: 0.0652249738403;\n",
      "The maximum number of train epochs is reached\n",
      "Epoch: 5; Error: 0.0479246599233;\n",
      "The maximum number of train epochs is reached\n",
      "Epoch: 5; Error: 0.0482036972445;\n",
      "The maximum number of train epochs is reached\n",
      "Epoch: 5; Error: 0.0479246599233;\n",
      "The maximum number of train epochs is reached\n",
      "Epoch: 5; Error: 0.0474363446111;\n",
      "The maximum number of train epochs is reached\n",
      "Epoch: 5; Error: 0.0299965120335;\n",
      "The maximum number of train epochs is reached\n",
      "Epoch: 5; Error: 0.0288803627485;\n",
      "The maximum number of train epochs is reached\n",
      "Epoch: 5; Error: 0.0288803627485;\n",
      "The maximum number of train epochs is reached\n",
      "Epoch: 5; Error: 0.0289501220788;\n",
      "The maximum number of train epochs is reached\n",
      "Epoch: 5; Error: 0.0289501220788;\n",
      "The maximum number of train epochs is reached\n",
      "Epoch: 5; Error: 0.0288803627485;\n",
      "The maximum number of train epochs is reached\n",
      "Epoch: 5; Error: 0.0289501220788;\n",
      "The maximum number of train epochs is reached\n",
      "Epoch: 5; Error: 0.0289501220788;\n",
      "The maximum number of train epochs is reached\n",
      "Epoch: 5; Error: 0.0288803627485;\n",
      "The maximum number of train epochs is reached\n",
      "Epoch: 5; Error: 0.0289501220788;\n",
      "The maximum number of train epochs is reached\n",
      "Epoch: 5; Error: 0.0289501220788;\n",
      "The maximum number of train epochs is reached\n",
      "Epoch: 5; Error: 0.0288803627485;\n",
      "The maximum number of train epochs is reached\n",
      "Epoch: 5; Error: 0.0288803627485;\n",
      "The maximum number of train epochs is reached\n",
      "Epoch: 5; Error: 0.0289501220788;\n",
      "The maximum number of train epochs is reached\n",
      "Epoch: 5; Error: 0.0288803627485;\n",
      "The maximum number of train epochs is reached\n"
     ]
    }
   ],
   "source": [
    "# Crear red LVC 64 entradas en rango 0..16, 60 neuronas ocultas y 10 salidas\n",
    "nh = 60\n",
    "lr = 0.004\n",
    "minmax = np.vstack((np.zeros(totcols - 1, dtype=int), np.ones(totcols - 1, dtype=int) * 16)).transpose()\n",
    "pc = np.asfarray(np.ones(10) * 0.1)\n",
    "pc[-1] = pc[-1] + (1 - sum(pc))       # Trick para evitar err redondeo\n",
    "net = nl.net.newlvq(minmax, nh, pc)\n",
    "\n",
    "# Entrenar durante 100 ciclos y validar cada 5\n",
    "error = np.array([])\n",
    "errorvalid = []\n",
    "out = net.sim(validinput)\n",
    "errorvalid = [((validtarget - out)**2).sum() / totvalid / 10]\n",
    "validcicles = 5\n",
    "for i in range(100/validcicles):\n",
    "    error10 = net.train(traininput, traintarget, epochs=validcicles, show=validcicles, goal=-1, lr=lr)\n",
    "    error = np.hstack((error, error10))\n",
    "    out = net.sim(validinput)\n",
    "    errorvalid.append(((validtarget - out)**2).sum() / totvalid / 10)\n",
    "\n",
    "# Salvar red a fichero\n",
    "net.save(\"optdigits.net\")"
   ]
  },
  {
   "cell_type": "code",
   "execution_count": 7,
   "metadata": {
    "collapsed": false
   },
   "outputs": [
    {
     "data": {
      "image/png": "[encoded data removed]",
      "text/plain": [
       "<matplotlib.figure.Figure at 0x7fa5cbcb2690>"
      ]
     },
     "metadata": {},
     "output_type": "display_data"
    }
   ],
   "source": [
    "# Impresión del error vs ciclos\n",
    "pl.plot(error, label='Train error')\n",
    "pl.plot(range(0,101,validcicles), errorvalid, '-o', label='Valid error')\n",
    "pl.xlabel('Epoch number')\n",
    "pl.ylabel('error')\n",
    "pl.legend(loc='upper right')\n",
    "pl.show()"
   ]
  },
  {
   "cell_type": "markdown",
   "metadata": {},
   "source": [
    "Como se ve, los errores MSE van disminuyendo en escalones. Calculamos a continuación los errores en tanto por ciento, las matrices de cruces y visualizamos los prototipos generados."
   ]
  },
  {
   "cell_type": "code",
   "execution_count": 8,
   "metadata": {
    "collapsed": false
   },
   "outputs": [
    {
     "name": "stdout",
     "output_type": "stream",
     "text": [
      "Train error: 14.4401813743 %\n",
      "Validation error: 16.1087866109 %\n"
     ]
    }
   ],
   "source": [
    "# Cálculo de errores en %\n",
    "outtrain = net.sim(traininput)\n",
    "outvalid = net.sim(validinput)\n",
    "\n",
    "rerrtrain = (((traintarget - outtrain)**2).max(axis=1)).sum() / tottrain\n",
    "errvalid = ((validtarget - outvalid)**2).max(axis=1)\n",
    "rerrvalid = errvalid.sum() / totvalid\n",
    "\n",
    "print \"Train error:\", rerrtrain * 100, \"%\"\n",
    "print \"Validation error:\", rerrvalid * 100, \"%\""
   ]
  },
  {
   "cell_type": "code",
   "execution_count": 9,
   "metadata": {
    "collapsed": false
   },
   "outputs": [
    {
     "data": {
      "text/plain": [
       "array([[287,   0,   0,   0,   2,   0,   1,   0,   1,   0],\n",
       "       [  1, 286,  11,   2,   0,   0,   4,   2,   8,   0],\n",
       "       [  5,   0, 266,   1,   0,   0,   1,   4,   9,   0],\n",
       "       [  1,   1,   0, 273,   0,   4,   0,   1,   3,   0],\n",
       "       [  0,   6,   0,   0, 256,   2,   5,  12,   2,   0],\n",
       "       [  0,   0,   6,   3,   0, 264,   1,   0,   0,   0],\n",
       "       [  0,   3,   0,   0,   1,   0, 280,   0,   0,   0],\n",
       "       [  0,   2,   0,   0,   0,   0,   0, 286,   3,   0],\n",
       "       [  0,  11,   1,   2,   2,   3,   5,   0, 255,   0],\n",
       "       [ 39,  23,  10,  78,  21,  53,   1,  23,  34,   0]])"
      ]
     },
     "execution_count": 9,
     "metadata": {},
     "output_type": "execute_result"
    }
   ],
   "source": [
    "# Crear matrices de cruces del conjunto de entrenamiento\n",
    "matcrutrain = np.zeros(100, dtype=int).reshape(10,10)\n",
    "for i in range(tottrain):\n",
    "    matcrutrain[int(np.dot(traintarget[i], np.arange(10))), int(np.dot(outtrain[i], np.arange(10)))] += 1\n",
    "\n",
    "matcrutrain"
   ]
  },
  {
   "cell_type": "code",
   "execution_count": 10,
   "metadata": {
    "collapsed": false
   },
   "outputs": [
    {
     "data": {
      "text/plain": [
       "array([[85,  0,  0,  0,  0,  0,  0,  0,  0,  0],\n",
       "       [ 1, 66,  2,  0,  0,  0,  0,  0,  6,  0],\n",
       "       [ 1,  0, 83,  1,  0,  0,  0,  1,  8,  0],\n",
       "       [ 0,  1,  2, 94,  0,  2,  0,  2,  5,  0],\n",
       "       [ 0,  3,  0,  0, 93,  0,  0,  2,  6,  0],\n",
       "       [ 1,  0,  0,  1,  1, 98,  1,  0,  0,  0],\n",
       "       [ 0,  0,  0,  0,  0,  0, 93,  0,  0,  0],\n",
       "       [ 0,  0,  0,  1,  1,  0,  0, 94,  0,  0],\n",
       "       [ 0,  4,  0,  0,  0,  0,  1,  0, 96,  0],\n",
       "       [ 7,  4,  2, 36,  9, 22,  0, 11,  9,  0]])"
      ]
     },
     "execution_count": 10,
     "metadata": {},
     "output_type": "execute_result"
    }
   ],
   "source": [
    "# Crear matrices de cruces del conjunto de validación\n",
    "matcruvalid = np.zeros(100, dtype=int).reshape(10,10)\n",
    "for i in range(totvalid):\n",
    "    matcruvalid[int(np.dot(validtarget[i], np.arange(10))), int(np.dot(outvalid[i], np.arange(10)))] += 1\n",
    "\n",
    "matcruvalid"
   ]
  },
  {
   "cell_type": "code",
   "execution_count": 11,
   "metadata": {
    "collapsed": false
   },
   "outputs": [
    {
     "data": {
      "image/png": "[encoded data removed]",
      "text/plain": [
       "<matplotlib.figure.Figure at 0x7fa5cbb5fa50>"
      ]
     },
     "metadata": {},
     "output_type": "display_data"
    }
   ],
   "source": [
    "# Visualizar prototipos \n",
    "prototipos = net.layers[0].np['w']\n",
    "clases = net.layers[1].np['w']\n",
    "\n",
    "for i in range(nh):\n",
    "    pl.subplot(10, int(np.ceil(nh/10)), 1 + i)\n",
    "    imgplot = pl.imshow(16 - prototipos[i,:].reshape(8,8))\n",
    "    imgplot.set_interpolation('nearest')\n",
    "    imgplot.set_cmap('gray')\n",
    "    pl.text(3.5, -0.8, int(np.where(clases[:,i] == 1)[0][0]))\n",
    "    pl.xticks([],[])\n",
    "    pl.yticks([],[])\n",
    "\n",
    "pl.show()"
   ]
  },
  {
   "cell_type": "markdown",
   "metadata": {},
   "source": [
    "Se aprecia que los porcentajes de errores de entrenamiento y validación son bastante altos (14,4% y 16,1%). Además en las matrices de cruces se observa que la clase correspondiente al número '9' no dispara ninguna vez, no se consigue converger adecuadamente. La visualización de los prototipos muestra que solo se está usando sólo 1 prototipo por clase (los de fondo blanco) de los 6 para cada clase desde la '0' a la '8', la clase '9' no tiene ninguno. El resto de prototipos han sido alejados. Otro problema detectado en la implementación de LVQ del NeuroLab es que la distribución de los prototipos por clase no es del todo correcta, ya que a la clase '7' se le han asignado 5 prototipos y a la clase '9' se le han asignado 7, cuando deberían haber sido 6 para todas las clases.\n",
    "\n",
    "Creemos que la inicialización de los prototipos al promedio de los rangos de entrada (8) impide que la capa competitiva se diversifique y expanda correctamente por el espacio de entrada. Para solventar este problema crearemos una nueva inicialización de prototipos asignándolos a patrones del conjunto de entrenamiento elegidos aleatoriamente entre aquellos pertenecientes a la clase del prototipo. El código necesario para ello se muestra a continuación:"
   ]
  },
  {
   "cell_type": "code",
   "execution_count": 12,
   "metadata": {
    "collapsed": true
   },
   "outputs": [],
   "source": [
    "# Función de inicialización red LVQ con patrones de entrenamiento\n",
    "def initlvq_randpat(net, input, target, seed=None):\n",
    "    \"\"\"\n",
    "    Inicializar red lvq asignado prototipos a patrones\n",
    "    aleatorios de esa misma clase\n",
    "    \"\"\"\n",
    "    \n",
    "    prototipos = net.layers[0].np['w']\n",
    "    clases = net.layers[1].np['w']\n",
    "    np.random.seed(seed=seed)\n",
    "\n",
    "    for i in range(len(prototipos[:,0])):\n",
    "\n",
    "        # Buscar clase del prototipo\n",
    "        clase = int(np.where(clases[:,i] == 1)[0][0])\n",
    "        # Buscar indices patrones de esa clase\n",
    "        indspatclase = np.where(traintarget[:,clase] == 1)[0]\n",
    "        # Elegir y copiar aleatoriamente uno de ellos como prototipo\n",
    "        indpat = indspatclase[np.random.random_integers(0, len(indspatclase)-1)]\n",
    "        prototipos[i,:] = traininput[indpat,:].copy()"
   ]
  },
  {
   "cell_type": "markdown",
   "metadata": {},
   "source": [
    "Con la red inicializada de esta forma volvemos a entrenar nuevamente y mostrar los resultados obtenidos:"
   ]
  },
  {
   "cell_type": "code",
   "execution_count": 13,
   "metadata": {
    "collapsed": false
   },
   "outputs": [
    {
     "name": "stdout",
     "output_type": "stream",
     "text": [
      "Epoch: 5; Error: 0.00955702825253;\n",
      "The maximum number of train epochs is reached\n",
      "Epoch: 5; Error: 0.00683641437042;\n",
      "The maximum number of train epochs is reached\n",
      "Epoch: 5; Error: 0.00606906173701;\n",
      "The maximum number of train epochs is reached\n",
      "Epoch: 5; Error: 0.00585978374608;\n",
      "The maximum number of train epochs is reached\n",
      "Epoch: 5; Error: 0.00530170910359;\n",
      "The maximum number of train epochs is reached\n",
      "Epoch: 5; Error: 0.0053714684339;\n",
      "The maximum number of train epochs is reached\n",
      "Epoch: 5; Error: 0.00516219044297;\n",
      "The maximum number of train epochs is reached\n",
      "Epoch: 5; Error: 0.00481339379142;\n",
      "The maximum number of train epochs is reached\n",
      "Epoch: 5; Error: 0.0046738751308;\n",
      "The maximum number of train epochs is reached\n",
      "Epoch: 5; Error: 0.00460411580049;\n",
      "The maximum number of train epochs is reached\n",
      "Epoch: 5; Error: 0.00446459713987;\n",
      "The maximum number of train epochs is reached\n",
      "Epoch: 5; Error: 0.00439483780956;\n",
      "The maximum number of train epochs is reached\n",
      "Epoch: 5; Error: 0.00453435647018;\n",
      "The maximum number of train epochs is reached\n",
      "Epoch: 5; Error: 0.00446459713987;\n",
      "The maximum number of train epochs is reached\n",
      "Epoch: 5; Error: 0.00446459713987;\n",
      "The maximum number of train epochs is reached\n",
      "Epoch: 5; Error: 0.00446459713987;\n",
      "The maximum number of train epochs is reached\n",
      "Epoch: 5; Error: 0.00439483780956;\n",
      "The maximum number of train epochs is reached\n",
      "Epoch: 5; Error: 0.00439483780956;\n",
      "The maximum number of train epochs is reached\n",
      "Epoch: 5; Error: 0.00439483780956;\n",
      "The maximum number of train epochs is reached\n",
      "Epoch: 5; Error: 0.00460411580049;\n",
      "The maximum number of train epochs is reached\n"
     ]
    }
   ],
   "source": [
    "# Inicializar red con patrones de entrenamiento\n",
    "initlvq_randpat(net, traininput, traintarget, 0)\n",
    "\n",
    "# Entrenar durante 100 ciclos y validar cada 5\n",
    "error = np.array([])\n",
    "errorvalid = []\n",
    "out = net.sim(validinput)\n",
    "errorvalid = [((validtarget - out)**2).sum() / totvalid / 10]\n",
    "validcicles = 5\n",
    "for i in range(100/validcicles):\n",
    "    error10 = net.train(traininput, traintarget, epochs=validcicles, show=validcicles, goal=-1, lr=lr)\n",
    "    error = np.hstack((error, error10))\n",
    "    out = net.sim(validinput)\n",
    "    errorvalid.append(((validtarget - out)**2).sum() / totvalid / 10)\n",
    "\n",
    "# Salvar red a fichero\n",
    "net.save(\"optdigitsi.net\")"
   ]
  },
  {
   "cell_type": "code",
   "execution_count": 14,
   "metadata": {
    "collapsed": false
   },
   "outputs": [
    {
     "data": {
      "image/png": "[encoded data removed]",
      "text/plain": [
       "<matplotlib.figure.Figure at 0x7fa5c7b35d50>"
      ]
     },
     "metadata": {},
     "output_type": "display_data"
    }
   ],
   "source": [
    "# Impresión del error vs ciclos\n",
    "pl.plot(error, label='Train error')\n",
    "pl.plot(range(0,101,validcicles), errorvalid, '-o', label='Valid error')\n",
    "pl.xlabel('Epoch number')\n",
    "pl.ylabel('error')\n",
    "pl.legend(loc='upper right')\n",
    "pl.show()"
   ]
  },
  {
   "cell_type": "markdown",
   "metadata": {},
   "source": [
    " Como se aprecia ahora el error MSE disminuye de forma más gradual, alcanzando un valor un orden de magnitud menor que anteriormente."
   ]
  },
  {
   "cell_type": "code",
   "execution_count": 15,
   "metadata": {
    "collapsed": false
   },
   "outputs": [
    {
     "name": "stdout",
     "output_type": "stream",
     "text": [
      "Train error: 2.30205790024 %\n",
      "Validation error: 4.18410041841 %\n"
     ]
    }
   ],
   "source": [
    "# Cálculo de errores en %\n",
    "outtrain = net.sim(traininput)\n",
    "outvalid = net.sim(validinput)\n",
    "\n",
    "rerrtrain = (((traintarget - outtrain)**2).max(axis=1)).sum() / tottrain\n",
    "errvalid = ((validtarget - outvalid)**2).max(axis=1)\n",
    "rerrvalid = errvalid.sum() / totvalid\n",
    "\n",
    "print \"Train error:\", rerrtrain * 100, \"%\"\n",
    "print \"Validation error:\", rerrvalid * 100, \"%\""
   ]
  },
  {
   "cell_type": "code",
   "execution_count": 16,
   "metadata": {
    "collapsed": false
   },
   "outputs": [
    {
     "data": {
      "text/plain": [
       "array([[289,   0,   0,   0,   1,   0,   1,   0,   0,   0],\n",
       "       [  0, 307,   3,   0,   0,   1,   0,   1,   0,   2],\n",
       "       [  0,   1, 284,   0,   0,   0,   0,   0,   0,   1],\n",
       "       [  0,   2,   0, 273,   0,   3,   0,   1,   1,   3],\n",
       "       [  1,   0,   0,   0, 273,   0,   3,   1,   1,   4],\n",
       "       [  0,   1,   0,   1,   0, 269,   0,   0,   0,   3],\n",
       "       [  0,   2,   0,   0,   0,   1, 281,   0,   0,   0],\n",
       "       [  0,   3,   1,   0,   0,   0,   0, 285,   0,   2],\n",
       "       [  0,   6,   0,   0,   0,   0,   2,   0, 269,   2],\n",
       "       [  0,   1,   0,   2,   2,   1,   0,   2,   3, 271]])"
      ]
     },
     "execution_count": 16,
     "metadata": {},
     "output_type": "execute_result"
    }
   ],
   "source": [
    "# Crear matrices de cruces del conjunto de entrenamiento\n",
    "matcrutrain = np.zeros(100, dtype=int).reshape(10,10)\n",
    "for i in range(tottrain):\n",
    "    matcrutrain[int(np.dot(traintarget[i], np.arange(10))), int(np.dot(outtrain[i], np.arange(10)))] += 1\n",
    "\n",
    "matcrutrain"
   ]
  },
  {
   "cell_type": "code",
   "execution_count": 17,
   "metadata": {
    "collapsed": false
   },
   "outputs": [
    {
     "data": {
      "text/plain": [
       "array([[ 85,   0,   0,   0,   0,   0,   0,   0,   0,   0],\n",
       "       [  0,  72,   0,   0,   0,   1,   0,   0,   0,   2],\n",
       "       [  0,   0,  94,   0,   0,   0,   0,   0,   0,   0],\n",
       "       [  0,   0,   0, 102,   0,   0,   0,   1,   2,   1],\n",
       "       [  0,   1,   0,   0,  97,   0,   0,   1,   4,   1],\n",
       "       [  0,   0,   0,   1,   0,  98,   0,   0,   0,   3],\n",
       "       [  0,   0,   0,   0,   0,   0,  92,   0,   1,   0],\n",
       "       [  0,   0,   0,   1,   1,   0,   0,  94,   0,   0],\n",
       "       [  0,   8,   0,   0,   0,   0,   1,   0,  90,   2],\n",
       "       [  0,   1,   0,   1,   2,   2,   0,   2,   0,  92]])"
      ]
     },
     "execution_count": 17,
     "metadata": {},
     "output_type": "execute_result"
    }
   ],
   "source": [
    "# Crear matrices de cruces del conjunto de validación\n",
    "matcruvalid = np.zeros(100, dtype=int).reshape(10,10)\n",
    "for i in range(totvalid):\n",
    "    matcruvalid[int(np.dot(validtarget[i], np.arange(10))), int(np.dot(outvalid[i], np.arange(10)))] += 1\n",
    "\n",
    "matcruvalid"
   ]
  },
  {
   "cell_type": "code",
   "execution_count": 18,
   "metadata": {
    "collapsed": false
   },
   "outputs": [
    {
     "data": {
      "image/png": "[encoded data removed]",
      "text/plain": [
       "<matplotlib.figure.Figure at 0x7fa5c7a81c90>"
      ]
     },
     "metadata": {},
     "output_type": "display_data"
    }
   ],
   "source": [
    "# Visualizar prototipos \n",
    "prototipos = net.layers[0].np['w']\n",
    "clases = net.layers[1].np['w']\n",
    "\n",
    "for i in range(nh):\n",
    "    pl.subplot(10, int(np.ceil(nh/10)), 1 + i)\n",
    "    imgplot = pl.imshow(16 - prototipos[i,:].reshape(8,8))\n",
    "    imgplot.set_interpolation('nearest')\n",
    "    imgplot.set_cmap('gray')\n",
    "    pl.text(3.5, -0.8, int(np.where(clases[:,i] == 1)[0][0]))\n",
    "    pl.xticks([],[])\n",
    "    pl.yticks([],[])\n",
    "\n",
    "pl.show()"
   ]
  },
  {
   "cell_type": "markdown",
   "metadata": {},
   "source": [
    "Ahora los porcentajes de errores de entrenamiento y validación son mucho más bajos (2,3% y 4,2%). En las matrices de cruce todas las clases son clasificadas bastante bien. La visualización de los prototipos no muestra ninguno que haya sido alejado."
   ]
  },
  {
   "cell_type": "markdown",
   "metadata": {},
   "source": [
    "## Optimización de la arquitectura\n",
    "\n",
    "En este estudio se trata de buscar la configuración de número de neuronas ocultas más adecuada, o sea, en la que se obtenga un menor error de validación. Para ello se realizan pruebas entre 2 y 10 neuronas ocultas por clase y repitiendo 10 veces cada red con distintas semillas aleatorias para la inicialización de prototipos, luego se muestran los resultados obtenidos. El código necesario para ello es el siguiente:"
   ]
  },
  {
   "cell_type": "code",
   "execution_count": 19,
   "metadata": {
    "collapsed": false
   },
   "outputs": [
    {
     "name": "stdout",
     "output_type": "stream",
     "text": [
      "    Seed: 0 Train error: 5.61562608999 % Validation error: 6.27615062762 %\n",
      "    Seed: 1 Train error: 5.3714684339 % Validation error: 6.27615062762 %\n",
      "    Seed: 2 Train error: 4.84827345657 % Validation error: 6.27615062762 %\n",
      "    Seed: 3 Train error: 5.30170910359 % Validation error: 6.17154811715 %\n",
      "    Seed: 4 Train error: 5.30170910359 % Validation error: 6.27615062762 %\n",
      "    Seed: 5 Train error: 5.19707010813 % Validation error: 6.48535564854 %\n",
      "    Seed: 6 Train error: 6.03418207185 % Validation error: 7.53138075314 %\n",
      "    Seed: 7 Train error: 4.91803278689 % Validation error: 6.17154811715 %\n",
      "    Seed: 8 Train error: 5.02267178235 % Validation error: 6.48535564854 %\n",
      "    Seed: 9 Train error: 5.30170910359 % Validation error: 6.17154811715 %\n",
      "Number hidden units: 20 ; Min Val Error: 6.17154811715 % ; Tra Error: 5.30170910359 %\n",
      "    Seed: 0 Train error: 3.80188350192 % Validation error: 4.39330543933 %\n",
      "    Seed: 1 Train error: 3.97628182769 % Validation error: 5.23012552301 %\n",
      "    Seed: 2 Train error: 3.45308685037 % Validation error: 5.43933054393 %\n",
      "    Seed: 3 Train error: 3.76700383676 % Validation error: 5.02092050209 %\n",
      "    Seed: 4 Train error: 4.01116149285 % Validation error: 5.23012552301 %\n",
      "    Seed: 5 Train error: 3.90652249738 % Validation error: 4.91631799163 %\n",
      "    Seed: 6 Train error: 3.69724450645 % Validation error: 5.75313807531 %\n",
      "    Seed: 7 Train error: 4.08092082316 % Validation error: 5.33472803347 %\n",
      "    Seed: 8 Train error: 3.94140216254 % Validation error: 5.33472803347 %\n",
      "    Seed: 9 Train error: 4.08092082316 % Validation error: 5.02092050209 %\n",
      "Number hidden units: 30 ; Min Val Error: 4.39330543933 % ; Tra Error: 3.80188350192 %\n",
      "    Seed: 0 Train error: 3.55772584583 % Validation error: 4.49790794979 %\n",
      "    Seed: 1 Train error: 2.75549354726 % Validation error: 4.39330543933 %\n",
      "    Seed: 2 Train error: 3.41820718521 % Validation error: 4.91631799163 %\n",
      "    Seed: 3 Train error: 3.31356818975 % Validation error: 4.39330543933 %\n",
      "    Seed: 4 Train error: 2.79037321242 % Validation error: 4.49790794979 %\n",
      "    Seed: 5 Train error: 2.75549354726 % Validation error: 4.49790794979 %\n",
      "    Seed: 6 Train error: 2.99965120335 % Validation error: 4.28870292887 %\n",
      "    Seed: 7 Train error: 3.31356818975 % Validation error: 5.12552301255 %\n",
      "    Seed: 8 Train error: 3.13916986397 % Validation error: 4.07949790795 %\n",
      "    Seed: 9 Train error: 3.52284618068 % Validation error: 4.49790794979 %\n",
      "Number hidden units: 40 ; Min Val Error: 4.07949790795 % ; Tra Error: 3.13916986397 %\n",
      "    Seed: 0 Train error: 2.44157656087 % Validation error: 3.76569037657 %\n",
      "    Seed: 1 Train error: 2.79037321242 % Validation error: 4.28870292887 %\n",
      "    Seed: 2 Train error: 2.72061388211 % Validation error: 4.18410041841 %\n",
      "    Seed: 3 Train error: 2.82525287757 % Validation error: 3.76569037657 %\n",
      "    Seed: 4 Train error: 3.06941053366 % Validation error: 4.39330543933 %\n",
      "    Seed: 5 Train error: 2.54621555633 % Validation error: 3.66108786611 %\n",
      "    Seed: 6 Train error: 2.68573421695 % Validation error: 4.07949790795 %\n",
      "    Seed: 7 Train error: 2.37181723055 % Validation error: 4.07949790795 %\n",
      "    Seed: 8 Train error: 2.99965120335 % Validation error: 4.28870292887 %\n",
      "    Seed: 9 Train error: 2.92989187304 % Validation error: 4.28870292887 %\n",
      "Number hidden units: 50 ; Min Val Error: 3.66108786611 % ; Tra Error: 2.54621555633 %\n",
      "    Seed: 0 Train error: 2.12765957447 % Validation error: 3.76569037657 %\n",
      "    Seed: 1 Train error: 2.23229856993 % Validation error: 3.87029288703 %\n",
      "    Seed: 2 Train error: 2.12765957447 % Validation error: 3.24267782427 %\n",
      "    Seed: 3 Train error: 2.40669689571 % Validation error: 3.03347280335 %\n",
      "    Seed: 4 Train error: 2.61597488664 % Validation error: 3.66108786611 %\n",
      "    Seed: 5 Train error: 2.09277990931 % Validation error: 3.66108786611 %\n",
      "    Seed: 6 Train error: 2.23229856993 % Validation error: 4.49790794979 %\n",
      "    Seed: 7 Train error: 2.44157656087 % Validation error: 3.34728033473 %\n",
      "    Seed: 8 Train error: 2.44157656087 % Validation error: 4.18410041841 %\n",
      "    Seed: 9 Train error: 2.23229856993 % Validation error: 2.92887029289 %\n",
      "Number hidden units: 60 ; Min Val Error: 2.92887029289 % ; Tra Error: 2.23229856993 %\n",
      "    Seed: 0 Train error: 2.30205790024 % Validation error: 3.34728033473 %\n",
      "    Seed: 1 Train error: 2.26717823509 % Validation error: 3.34728033473 %\n",
      "    Seed: 2 Train error: 2.12765957447 % Validation error: 2.61506276151 %\n",
      "    Seed: 3 Train error: 2.12765957447 % Validation error: 3.03347280335 %\n",
      "    Seed: 4 Train error: 2.44157656087 % Validation error: 2.92887029289 %\n",
      "    Seed: 5 Train error: 2.09277990931 % Validation error: 3.66108786611 %\n",
      "    Seed: 6 Train error: 2.05790024416 % Validation error: 3.24267782427 %\n",
      "    Seed: 7 Train error: 2.68573421695 % Validation error: 4.28870292887 %\n",
      "    Seed: 8 Train error: 2.3369375654 % Validation error: 3.55648535565 %\n",
      "    Seed: 9 Train error: 2.26717823509 % Validation error: 3.45188284519 %\n",
      "Number hidden units: 70 ; Min Val Error: 2.61506276151 % ; Tra Error: 2.12765957447 %\n",
      "    Seed: 0 Train error: 2.23229856993 % Validation error: 2.82426778243 %\n",
      "    Seed: 1 Train error: 2.12765957447 % Validation error: 3.55648535565 %\n",
      "    Seed: 2 Train error: 2.023020579 % Validation error: 2.51046025105 %\n",
      "    Seed: 3 Train error: 1.84862225323 % Validation error: 3.55648535565 %\n",
      "    Seed: 4 Train error: 2.05790024416 % Validation error: 3.03347280335 %\n",
      "    Seed: 5 Train error: 2.19741890478 % Validation error: 3.24267782427 %\n",
      "    Seed: 6 Train error: 1.81374258807 % Validation error: 3.45188284519 %\n",
      "    Seed: 7 Train error: 1.88350191838 % Validation error: 2.92887029289 %\n",
      "    Seed: 8 Train error: 2.05790024416 % Validation error: 3.76569037657 %\n",
      "    Seed: 9 Train error: 2.16253923962 % Validation error: 3.13807531381 %\n",
      "Number hidden units: 80 ; Min Val Error: 2.51046025105 % ; Tra Error: 2.023020579 %\n",
      "    Seed: 0 Train error: 2.09277990931 % Validation error: 3.03347280335 %\n",
      "    Seed: 1 Train error: 1.84862225323 % Validation error: 2.71966527197 %\n",
      "    Seed: 2 Train error: 1.91838158354 % Validation error: 3.87029288703 %\n",
      "    Seed: 3 Train error: 1.81374258807 % Validation error: 3.34728033473 %\n",
      "    Seed: 4 Train error: 1.98814091385 % Validation error: 3.13807531381 %\n",
      "    Seed: 5 Train error: 1.91838158354 % Validation error: 3.34728033473 %\n",
      "    Seed: 6 Train error: 1.81374258807 % Validation error: 3.45188284519 %\n",
      "    Seed: 7 Train error: 1.88350191838 % Validation error: 3.24267782427 %\n",
      "    Seed: 8 Train error: 1.81374258807 % Validation error: 3.45188284519 %\n",
      "    Seed: 9 Train error: 2.19741890478 % Validation error: 3.03347280335 %\n",
      "Number hidden units: 90 ; Min Val Error: 2.71966527197 % ; Tra Error: 1.84862225323 %\n",
      "    Seed: 0 Train error: 2.16253923962 % Validation error: 2.92887029289 %\n",
      "    Seed: 1 Train error: 1.56958493198 % Validation error: 3.66108786611 %\n",
      "    Seed: 2 Train error: 1.88350191838 % Validation error: 2.51046025105 %\n",
      "    Seed: 3 Train error: 1.95326124869 % Validation error: 4.07949790795 %\n",
      "    Seed: 4 Train error: 1.95326124869 % Validation error: 3.03347280335 %\n",
      "    Seed: 5 Train error: 1.67422392745 % Validation error: 2.71966527197 %\n",
      "    Seed: 6 Train error: 1.49982560167 % Validation error: 3.24267782427 %\n",
      "    Seed: 7 Train error: 1.67422392745 % Validation error: 3.87029288703 %\n",
      "    Seed: 8 Train error: 1.74398325776 % Validation error: 3.03347280335 %\n",
      "    Seed: 9 Train error: 1.95326124869 % Validation error: 2.82426778243 %\n",
      "Number hidden units: 100 ; Min Val Error: 2.51046025105 % ; Tra Error: 1.88350191838 %\n"
     ]
    },
    {
     "data": {
      "text/plain": [
       "array([[ 0.06171548,  0.04393305,  0.04079498,  0.03661088,  0.0292887 ,\n",
       "         0.02615063,  0.0251046 ,  0.02719665,  0.0251046 ],\n",
       "       [ 0.05301709,  0.03801884,  0.0313917 ,  0.02546216,  0.02232299,\n",
       "         0.0212766 ,  0.02023021,  0.01848622,  0.01883502]])"
      ]
     },
     "execution_count": 19,
     "metadata": {},
     "output_type": "execute_result"
    }
   ],
   "source": [
    "# Estudio con distintas neuronas ocultas (puede tardar bastante tiempo)\n",
    "testsnh = [20, 30, 40, 50, 60, 70, 80, 90, 100]\n",
    "res = np.zeros((2, (len(testsnh))))\n",
    "for j, nh in enumerate(testsnh):\n",
    "    # Crear red\n",
    "    net = nl.net.newlvq(minmax, nh, pc)\n",
    "    # Entrenar con distintas semillas para inicializador\n",
    "    nreps = 10\n",
    "    mins = np.zeros((2, nreps))\n",
    "    for i in range(nreps):\n",
    "        # Inicializar a patrones aleatorios\n",
    "        initlvq_randpat(net, traininput, traintarget, i)\n",
    "        error = net.train(traininput, traintarget, epochs=100, show=0, goal=-1, lr=lr)\n",
    "        # Cálculo de errores\n",
    "        outtrain = net.sim(traininput)\n",
    "        errtrain = (((traintarget - outtrain)**2).max(axis=1)).sum() / tottrain\n",
    "        outvalid = net.sim(validinput)\n",
    "        errvalid = (((validtarget - outvalid)**2).max(axis=1)).sum() / totvalid\n",
    "        print \"    Seed:\", i, \"Train error:\", errtrain * 100, \"% Validation error:\", errvalid * 100, \"%\"\n",
    "        mins[0, i] = errvalid\n",
    "        mins[1, i] = errtrain\n",
    "    indmin = mins[0,:].argmin()\n",
    "    res[0, j] = mins[0, indmin]\n",
    "    res[1, j] = mins[1, indmin]\n",
    "    print \"Number hidden units:\", nh, \"; Min Val Error:\", res[0, j] * 100, \"%\", \"; Tra Error:\", res[1, j] * 100, \"%\"\n",
    "\n",
    "res"
   ]
  },
  {
   "cell_type": "code",
   "execution_count": 20,
   "metadata": {
    "collapsed": false
   },
   "outputs": [
    {
     "data": {
      "image/png": "[encoded data removed]",
      "text/plain": [
       "<matplotlib.figure.Figure at 0x7fa60a04ad90>"
      ]
     },
     "metadata": {},
     "output_type": "display_data"
    }
   ],
   "source": [
    "# Mostramos gráficamente los resultados\n",
    "width = 4\n",
    "pl.bar(np.array(testsnh) - width, res[1,:] * 100, color='g', width=width, label='Train error')\n",
    "pl.bar(np.array(testsnh), res[0,:] * 100, width=width, label='Valid error')\n",
    "pl.xlabel('Number of hidden units')\n",
    "pl.ylabel('error (%)')\n",
    "pl.xticks(np.array(testsnh), testsnh)\n",
    "pl.legend(loc='upper right')\n",
    "\n",
    "pl.show()"
   ]
  },
  {
   "cell_type": "markdown",
   "metadata": {},
   "source": [
    "Como se puede ver los errores se estabilizan a partir de 70 unidades ocultas. Los mejores errores se dan en en 80 y 100 neuronas ocultas con un error de validación del 2,5%, que reduce aún mas el obtenido anteriormente."
   ]
  },
  {
   "cell_type": "markdown",
   "metadata": {},
   "source": [
    "# Conclusiones\n",
    "## Arquitectura y parámetros más adecuados\n",
    "Dado los anteriores estudios se considera la arquitectura con 80 nodos ocultos la más adecuada, ya que entre las que alcanza el mínimo error de validación obtenido (2,5%) es la mas simple. Ademas tiene un bajo error de entrenamiento (2,1%). Los parámetros aconsejados para entrenar son un ratio de aprendizaje de 0.004, una semilla de inicialización de 2 y entrenada durante 100 ciclos. Mostramos los resultados de un entrenamiento realizado especificamente con dicha arquitectura:"
   ]
  },
  {
   "cell_type": "code",
   "execution_count": 29,
   "metadata": {
    "collapsed": false
   },
   "outputs": [
    {
     "name": "stdout",
     "output_type": "stream",
     "text": [
      "Train error: 1.95326124869 %\n",
      "Validation error: 2.51046025105 %\n"
     ]
    }
   ],
   "source": [
    "# Entrenamiento con la arquitectura más adecuada\n",
    "\n",
    "nh = 80\n",
    "net = nl.net.newlvq(minmax, nh, pc)\n",
    "\n",
    "initlvq_randpat(net, traininput, traintarget, 2)\n",
    "error = net.train(traininput, traintarget, epochs=100, show=0, goal=-1, lr=lr)\n",
    "\n",
    "# Salvar red a fichero\n",
    "net.save(\"optdigitsim.net\")\n",
    "\n",
    "# Cálculo de errores en %\n",
    "\n",
    "outtrain = net.sim(traininput)\n",
    "outvalid = net.sim(validinput)\n",
    "\n",
    "terrtrain = (((traintarget - outtrain)**2).max(axis=1)).sum() / tottrain\n",
    "errvalid = ((validtarget - outvalid)**2).max(axis=1)\n",
    "errvalid = errvalid.sum() / totvalid\n",
    "\n",
    "print \"Train error:\", errtrain * 100, \"%\"\n",
    "print \"Validation error:\", errvalid * 100, \"%\""
   ]
  },
  {
   "cell_type": "code",
   "execution_count": 22,
   "metadata": {
    "collapsed": false
   },
   "outputs": [
    {
     "data": {
      "text/plain": [
       "array([[289,   0,   0,   0,   1,   0,   1,   0,   0,   0],\n",
       "       [  0, 308,   1,   1,   0,   1,   0,   0,   0,   3],\n",
       "       [  0,   2, 283,   0,   0,   0,   0,   0,   0,   1],\n",
       "       [  0,   0,   0, 272,   0,   4,   0,   1,   1,   5],\n",
       "       [  0,   3,   0,   0, 276,   0,   1,   0,   0,   3],\n",
       "       [  0,   0,   0,   1,   0, 267,   1,   0,   0,   5],\n",
       "       [  0,   1,   0,   0,   0,   1, 282,   0,   0,   0],\n",
       "       [  0,   3,   1,   0,   0,   0,   0, 287,   0,   0],\n",
       "       [  0,   5,   0,   1,   0,   1,   0,   0, 270,   2],\n",
       "       [  0,   1,   0,   1,   2,   0,   0,   2,   1, 275]])"
      ]
     },
     "execution_count": 22,
     "metadata": {},
     "output_type": "execute_result"
    }
   ],
   "source": [
    "# Crear matrices de cruces del conjunto de entrenamiento\n",
    "matcrutrain = np.zeros(100, dtype=int).reshape(10,10)\n",
    "for i in range(tottrain):\n",
    "    matcrutrain[int(np.dot(traintarget[i], np.arange(10))), int(np.dot(outtrain[i], np.arange(10)))] += 1\n",
    "\n",
    "matcrutrain"
   ]
  },
  {
   "cell_type": "code",
   "execution_count": 23,
   "metadata": {
    "collapsed": false
   },
   "outputs": [
    {
     "data": {
      "text/plain": [
       "array([[ 85,   0,   0,   0,   0,   0,   0,   0,   0,   0],\n",
       "       [  0,  73,   0,   0,   0,   0,   0,   0,   1,   1],\n",
       "       [  0,   0,  94,   0,   0,   0,   0,   0,   0,   0],\n",
       "       [  0,   0,   0, 102,   0,   1,   0,   1,   1,   1],\n",
       "       [  0,   1,   0,   0, 100,   0,   0,   2,   0,   1],\n",
       "       [  0,   0,   0,   0,   0,  99,   0,   0,   0,   3],\n",
       "       [  0,   0,   0,   0,   0,   0,  93,   0,   0,   0],\n",
       "       [  0,   0,   0,   1,   1,   0,   0,  94,   0,   0],\n",
       "       [  0,   6,   0,   0,   0,   0,   0,   0,  95,   0],\n",
       "       [  0,   0,   0,   0,   1,   1,   0,   1,   0,  97]])"
      ]
     },
     "execution_count": 23,
     "metadata": {},
     "output_type": "execute_result"
    }
   ],
   "source": [
    "# Crear matrices de cruces del conjunto de validación\n",
    "\n",
    "matcruvalid = np.zeros(100, dtype=int).reshape(10,10)\n",
    "for i in range(totvalid):\n",
    "    matcruvalid[int(np.dot(validtarget[i], np.arange(10))), int(np.dot(outvalid[i], np.arange(10)))] += 1\n",
    "\n",
    "matcruvalid"
   ]
  },
  {
   "cell_type": "markdown",
   "metadata": {},
   "source": [
    "En estos resultados se muestra que el peor error por clase en el conjunto de validación se produce al confundir 6 patrones de la clase real '8' (5,9%) y clasificarlos como '1'."
   ]
  },
  {
   "cell_type": "code",
   "execution_count": 24,
   "metadata": {
    "collapsed": false
   },
   "outputs": [
    {
     "data": {
      "image/png": "[encoded data removed]",
      "text/plain": [
       "<matplotlib.figure.Figure at 0x7fa5c9324610>"
      ]
     },
     "metadata": {},
     "output_type": "display_data"
    }
   ],
   "source": [
    "# Mostramos errores clase real '8'\n",
    "indices = np.where(errvalid == 1)[0]\n",
    "indices8 = np.where(validtarget[(indices),8] == 1)[0]\n",
    "\n",
    "for i, ind in enumerate(indices8):\n",
    "    pl.subplot(3, 3, 1 + i)\n",
    "    imgplot = pl.imshow(16 - validinput[indices[ind],:].reshape(8,8))\n",
    "    imgplot.set_interpolation('nearest')\n",
    "    imgplot.set_cmap('gray')\n",
    "    pl.text(0.5, -0.8, \"real:\" + str(int(np.dot(validtarget[indices[ind]], np.arange(10)))))\n",
    "    pl.text(4, -0.8, \"clas:\" + str(int(np.dot(outvalid[indices[ind]], np.arange(10)))))\n",
    "    pl.xticks([],[])\n",
    "    pl.yticks([],[])\n",
    "\n",
    "pl.show()"
   ]
  },
  {
   "cell_type": "markdown",
   "metadata": {},
   "source": [
    "## Resultado para el conjunto de testeo\n",
    "Con el conjunto de test se obtiene para la mejor red un error del 4,1%. Debajo se muestran también su matriz de cruce. Para leer el conjunto de test y evaluar su errores se utilizó el siguiente código:"
   ]
  },
  {
   "cell_type": "code",
   "execution_count": 25,
   "metadata": {
    "collapsed": false
   },
   "outputs": [
    {
     "data": {
      "text/plain": [
       "1797"
      ]
     },
     "execution_count": 25,
     "metadata": {},
     "output_type": "execute_result"
    }
   ],
   "source": [
    "# Obtener resultados para el conjunto de test\n",
    "# Leer fichero de patrones de entrenamiento\n",
    "patternstest = np.loadtxt(\"optdigits.tes\", dtype=int, delimiter=',')\n",
    "\n",
    "# Dimensiones leidas\n",
    "tottest, totcolstest = patternstest.shape\n",
    "\n",
    "tottest"
   ]
  },
  {
   "cell_type": "code",
   "execution_count": 27,
   "metadata": {
    "collapsed": false
   },
   "outputs": [
    {
     "data": {
      "text/plain": [
       "array([[177,   0,   0,   0,   1,   0,   0,   0,   0,   0],\n",
       "       [  0, 181,   0,   0,   0,   0,   0,   0,   1,   0],\n",
       "       [  0,   1, 173,   0,   0,   0,   0,   1,   2,   0],\n",
       "       [  0,   0,   0, 170,   0,   2,   0,   3,   5,   3],\n",
       "       [  0,   5,   0,   0, 175,   0,   0,   0,   1,   0],\n",
       "       [  0,   0,   0,   0,   1, 177,   1,   0,   0,   3],\n",
       "       [  2,   0,   0,   0,   0,   1, 177,   0,   1,   0],\n",
       "       [  0,   0,   0,   0,   0,   0,   0, 172,   0,   7],\n",
       "       [  0,  10,   0,   3,   0,   2,   3,   0, 153,   3],\n",
       "       [  0,   0,   0,   4,   0,   2,   0,   0,   5, 169]])"
      ]
     },
     "execution_count": 27,
     "metadata": {},
     "output_type": "execute_result"
    }
   ],
   "source": [
    "# Entradas de tests\n",
    "testinput = patternstest[:, 0:totcolstest-1]\n",
    "\n",
    "# Generar salidas deseada con formato 10 salidas binarias\n",
    "testtarget = np.zeros([tottest, 10])\n",
    "for i in range(tottest):\n",
    "    testtarget[i, patternstest[i, -1]] = 1.0\n",
    "\n",
    "# Obtener salidas del conjunto de test\n",
    "outtest = net.sim(testinput)\n",
    "\n",
    "# Crear matrices de cruces del conjunto test\n",
    "matcrutest = np.zeros(100, dtype=int).reshape(10,10)\n",
    "for i in range(tottest):\n",
    "    matcrutest[int(np.dot(testtarget[i], np.arange(10))), int(np.dot(outtest[i], np.arange(10)))] += 1\n",
    "\n",
    "matcrutest"
   ]
  },
  {
   "cell_type": "code",
   "execution_count": 32,
   "metadata": {
    "collapsed": false
   },
   "outputs": [
    {
     "name": "stdout",
     "output_type": "stream",
     "text": [
      "Test error: 4.06232609905 %\n",
      "Test accurracy: 95.9376739009 %\n"
     ]
    }
   ],
   "source": [
    "# Calculo de errores a través de las matrices de cruces\n",
    "errtest = 1 - float(np.diag(matcrutest).sum())/tottest\n",
    "print \"Test error:\", errtest * 100, \"%\"\n",
    "print \"Test accurracy:\", (1 - errtest) * 100, \"%\""
   ]
  },
  {
   "cell_type": "markdown",
   "metadata": {},
   "source": [
    "Este resultado final parece bastante aceptable, por ejemplo supera en 2% al mejor resultado obtenido en (Tang, Ponnuthurai, Suganthan, Yao and Qin, 2005) (93,93% de accurracy con WLDR 9d).\n",
    "\n",
    "- (Tang, Ponnuthurai, Suganthan, Yao and Qin, 2005) Ken Tang and Ponnuthurai N. Suganthan and Xi Yao and A. Kai Qin. [Linear dimensionalityreduction using relevance weighted LDA](http://www.sciencedirect.com/science/article/pii/S0031320304003619). Pattern Recognition\n",
    "vol 38 (4), April 2005, pp: 485-493"
   ]
  }
 ],
 "metadata": {
  "kernelspec": {
   "display_name": "Python 2",
   "language": "python",
   "name": "python2"
  },
  "language_info": {
   "codemirror_mode": {
    "name": "ipython",
    "version": 2
   },
   "file_extension": ".py",
   "mimetype": "text/x-python",
   "name": "python",
   "nbconvert_exporter": "python",
   "pygments_lexer": "ipython2",
   "version": "2.7.13"
  }
 },
 "nbformat": 4,
 "nbformat_minor": 2
}
